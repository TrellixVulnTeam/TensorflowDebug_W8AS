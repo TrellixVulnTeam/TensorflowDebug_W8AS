{
 "cells": [
  {
   "cell_type": "code",
   "execution_count": 1,
   "metadata": {},
   "outputs": [
    {
     "name": "stderr",
     "output_type": "stream",
     "text": [
      "C:\\ProgramData\\Anaconda3\\envs\\tensorflow\\lib\\site-packages\\h5py\\__init__.py:36: FutureWarning: Conversion of the second argument of issubdtype from `float` to `np.floating` is deprecated. In future, it will be treated as `np.float64 == np.dtype(float).type`.\n",
      "  from ._conv import register_converters as _register_converters\n"
     ]
    },
    {
     "name": "stdout",
     "output_type": "stream",
     "text": [
      "Extracting ../data/mnsit/train-images-idx3-ubyte.gz\n",
      "Extracting ../data/mnsit/train-labels-idx1-ubyte.gz\n",
      "Extracting ../data/mnsit/t10k-images-idx3-ubyte.gz\n",
      "Extracting ../data/mnsit/t10k-labels-idx1-ubyte.gz\n"
     ]
    }
   ],
   "source": [
    "'''\n",
    "A Recurrent Neural Network (LSTM) implementation example using TensorFlow library.\n",
    "This example is using the MNIST database of handwritten digits (http://yann.lecun.com/exdb/mnist/)\n",
    "Long Short Term Memory paper: http://deeplearning.cs.cmu.edu/pdfs/Hochreiter97_lstm.pdf\n",
    "\n",
    "Author: Aymeric Damien\n",
    "Project: https://github.com/aymericdamien/TensorFlow-Examples/\n",
    "'''\n",
    "\n",
    "from __future__ import print_function\n",
    "\n",
    "import tensorflow as tf\n",
    "from tensorflow.contrib import rnn\n",
    "\n",
    "# Import MNIST data\n",
    "from tensorflow.examples.tutorials.mnist import input_data\n",
    "mnist = input_data.read_data_sets(\"../data/mnsit/\", one_hot=True)"
   ]
  },
  {
   "cell_type": "code",
   "execution_count": 2,
   "metadata": {
    "collapsed": true
   },
   "outputs": [],
   "source": [
    "# Parameters\n",
    "learning_rate = 0.001\n",
    "training_iters = 10000#100000\n",
    "batch_size = 128\n",
    "display_step = 10\n",
    "\n",
    "# Network Parameters\n",
    "n_input = 28 # MNIST data input (img shape: 28*28)\n",
    "n_steps = 28 # timesteps\n",
    "n_hidden = 128 # hidden layer num of features\n",
    "n_classes = 10 # MNIST total classes (0-9 digits)"
   ]
  },
  {
   "cell_type": "code",
   "execution_count": 3,
   "metadata": {
    "collapsed": true
   },
   "outputs": [],
   "source": [
    "# todo tf Graph input\n",
    "x = tf.placeholder(\"float\", [None, n_steps, n_input])\n",
    "y = tf.placeholder(\"float\", [None, n_classes])\n",
    "\n",
    "# todo Define weights and biases\n",
    "# weights 128 * 10\n",
    "weights = {\n",
    "    'out': tf.Variable(tf.random_normal([n_hidden, n_classes]))\n",
    "}\n",
    "# biases 10\n",
    "biases = {\n",
    "    'out': tf.Variable(tf.random_normal([n_classes]))\n",
    "}"
   ]
  },
  {
   "cell_type": "code",
   "execution_count": 4,
   "metadata": {
    "collapsed": true
   },
   "outputs": [],
   "source": [
    "# 给定一个具有形状 (A, B, C, D) 的张量。\n",
    "# 如果 axis == 0，那么 output 中的第 i 个张量就是切片 value[i, :, :, :]，\n",
    "# 并且 output 中的每个张量都具有形状 (B, C, D)。（请注意，出栈的维度已经消失，不像split）。 \n",
    "# 如果 axis == 1，那么 output 中的第 i 个张量就是切片 value[:, i, :, :]，\n",
    "# 并且 output 中的每个张量都具有形状 (A, C, D)。 "
   ]
  },
  {
   "cell_type": "code",
   "execution_count": 5,
   "metadata": {
    "collapsed": true
   },
   "outputs": [],
   "source": [
    "def RNN(x, weights, biases):\n",
    "\n",
    "    # Prepare data shape to match `rnn` function requirements\n",
    "    # Current data input shape: (batch_size, n_steps, n_input)\n",
    "    # Required shape: 'n_steps' tensors list of shape (batch_size, n_input)\n",
    "\n",
    "    # todo Unstack to get a list of 'n_steps' tensors of shape (batch_size, n_input)\n",
    "    # 28\n",
    "    x = tf.unstack(x, n_steps, axis=1)\n",
    "    print(\"x:\", x)\n",
    "    # todo Define a lstm cell with tensorflow\n",
    "    # 128\n",
    "    lstm_cell = rnn.BasicLSTMCell(n_hidden, forget_bias=1.0)\n",
    "\n",
    "    # todo  Get lstm cell output\n",
    "    outputs, states = rnn.static_rnn(lstm_cell, x, dtype=tf.float32)\n",
    "    print('outputs:',outputs)\n",
    "    # Linear activation, using rnn inner loop last output\n",
    "    return tf.matmul(outputs[-1], weights['out']) + biases['out']"
   ]
  },
  {
   "cell_type": "code",
   "execution_count": 6,
   "metadata": {},
   "outputs": [
    {
     "name": "stdout",
     "output_type": "stream",
     "text": [
      "x: Tensor(\"Placeholder:0\", shape=(?, 28, 28), dtype=float32)\n",
      "x: [<tf.Tensor 'unstack:0' shape=(?, 28) dtype=float32>, <tf.Tensor 'unstack:1' shape=(?, 28) dtype=float32>, <tf.Tensor 'unstack:2' shape=(?, 28) dtype=float32>, <tf.Tensor 'unstack:3' shape=(?, 28) dtype=float32>, <tf.Tensor 'unstack:4' shape=(?, 28) dtype=float32>, <tf.Tensor 'unstack:5' shape=(?, 28) dtype=float32>, <tf.Tensor 'unstack:6' shape=(?, 28) dtype=float32>, <tf.Tensor 'unstack:7' shape=(?, 28) dtype=float32>, <tf.Tensor 'unstack:8' shape=(?, 28) dtype=float32>, <tf.Tensor 'unstack:9' shape=(?, 28) dtype=float32>, <tf.Tensor 'unstack:10' shape=(?, 28) dtype=float32>, <tf.Tensor 'unstack:11' shape=(?, 28) dtype=float32>, <tf.Tensor 'unstack:12' shape=(?, 28) dtype=float32>, <tf.Tensor 'unstack:13' shape=(?, 28) dtype=float32>, <tf.Tensor 'unstack:14' shape=(?, 28) dtype=float32>, <tf.Tensor 'unstack:15' shape=(?, 28) dtype=float32>, <tf.Tensor 'unstack:16' shape=(?, 28) dtype=float32>, <tf.Tensor 'unstack:17' shape=(?, 28) dtype=float32>, <tf.Tensor 'unstack:18' shape=(?, 28) dtype=float32>, <tf.Tensor 'unstack:19' shape=(?, 28) dtype=float32>, <tf.Tensor 'unstack:20' shape=(?, 28) dtype=float32>, <tf.Tensor 'unstack:21' shape=(?, 28) dtype=float32>, <tf.Tensor 'unstack:22' shape=(?, 28) dtype=float32>, <tf.Tensor 'unstack:23' shape=(?, 28) dtype=float32>, <tf.Tensor 'unstack:24' shape=(?, 28) dtype=float32>, <tf.Tensor 'unstack:25' shape=(?, 28) dtype=float32>, <tf.Tensor 'unstack:26' shape=(?, 28) dtype=float32>, <tf.Tensor 'unstack:27' shape=(?, 28) dtype=float32>]\n",
      "outputs: [<tf.Tensor 'rnn/basic_lstm_cell/Mul_2:0' shape=(?, 128) dtype=float32>, <tf.Tensor 'rnn/basic_lstm_cell/Mul_5:0' shape=(?, 128) dtype=float32>, <tf.Tensor 'rnn/basic_lstm_cell/Mul_8:0' shape=(?, 128) dtype=float32>, <tf.Tensor 'rnn/basic_lstm_cell/Mul_11:0' shape=(?, 128) dtype=float32>, <tf.Tensor 'rnn/basic_lstm_cell/Mul_14:0' shape=(?, 128) dtype=float32>, <tf.Tensor 'rnn/basic_lstm_cell/Mul_17:0' shape=(?, 128) dtype=float32>, <tf.Tensor 'rnn/basic_lstm_cell/Mul_20:0' shape=(?, 128) dtype=float32>, <tf.Tensor 'rnn/basic_lstm_cell/Mul_23:0' shape=(?, 128) dtype=float32>, <tf.Tensor 'rnn/basic_lstm_cell/Mul_26:0' shape=(?, 128) dtype=float32>, <tf.Tensor 'rnn/basic_lstm_cell/Mul_29:0' shape=(?, 128) dtype=float32>, <tf.Tensor 'rnn/basic_lstm_cell/Mul_32:0' shape=(?, 128) dtype=float32>, <tf.Tensor 'rnn/basic_lstm_cell/Mul_35:0' shape=(?, 128) dtype=float32>, <tf.Tensor 'rnn/basic_lstm_cell/Mul_38:0' shape=(?, 128) dtype=float32>, <tf.Tensor 'rnn/basic_lstm_cell/Mul_41:0' shape=(?, 128) dtype=float32>, <tf.Tensor 'rnn/basic_lstm_cell/Mul_44:0' shape=(?, 128) dtype=float32>, <tf.Tensor 'rnn/basic_lstm_cell/Mul_47:0' shape=(?, 128) dtype=float32>, <tf.Tensor 'rnn/basic_lstm_cell/Mul_50:0' shape=(?, 128) dtype=float32>, <tf.Tensor 'rnn/basic_lstm_cell/Mul_53:0' shape=(?, 128) dtype=float32>, <tf.Tensor 'rnn/basic_lstm_cell/Mul_56:0' shape=(?, 128) dtype=float32>, <tf.Tensor 'rnn/basic_lstm_cell/Mul_59:0' shape=(?, 128) dtype=float32>, <tf.Tensor 'rnn/basic_lstm_cell/Mul_62:0' shape=(?, 128) dtype=float32>, <tf.Tensor 'rnn/basic_lstm_cell/Mul_65:0' shape=(?, 128) dtype=float32>, <tf.Tensor 'rnn/basic_lstm_cell/Mul_68:0' shape=(?, 128) dtype=float32>, <tf.Tensor 'rnn/basic_lstm_cell/Mul_71:0' shape=(?, 128) dtype=float32>, <tf.Tensor 'rnn/basic_lstm_cell/Mul_74:0' shape=(?, 128) dtype=float32>, <tf.Tensor 'rnn/basic_lstm_cell/Mul_77:0' shape=(?, 128) dtype=float32>, <tf.Tensor 'rnn/basic_lstm_cell/Mul_80:0' shape=(?, 128) dtype=float32>, <tf.Tensor 'rnn/basic_lstm_cell/Mul_83:0' shape=(?, 128) dtype=float32>]\n",
      "WARNING:tensorflow:From <ipython-input-6-1f2b8426f40a>:5: softmax_cross_entropy_with_logits (from tensorflow.python.ops.nn_ops) is deprecated and will be removed in a future version.\n",
      "Instructions for updating:\n",
      "\n",
      "Future major versions of TensorFlow will allow gradients to flow\n",
      "into the labels input on backprop by default.\n",
      "\n",
      "See tf.nn.softmax_cross_entropy_with_logits_v2.\n",
      "\n"
     ]
    }
   ],
   "source": [
    "print(\"x:\", x)\n",
    "pred = RNN(x, weights, biases)\n",
    "\n",
    "# todo  Define loss and optimizer\n",
    "cost = tf.reduce_mean(tf.nn.softmax_cross_entropy_with_logits(logits=pred, labels=y))\n",
    "optimizer = tf.train.AdadeltaOptimizer(learning_rate=learning_rate).minimize(cost)\n",
    "\n",
    "# todo  Evaluate model\n",
    "correct_pred = tf.equal(tf.argmax(pred, 1), tf.argmax(y, 1))\n",
    "accuracy = tf.reduce_mean(tf.cast(correct_pred, tf.float32))"
   ]
  },
  {
   "cell_type": "code",
   "execution_count": 7,
   "metadata": {},
   "outputs": [
    {
     "name": "stdout",
     "output_type": "stream",
     "text": [
      "Iter 1280, Minibatch Loss= 2.669481, Training Accuracy= 0.12500\n",
      "Iter 2560, Minibatch Loss= 2.905077, Training Accuracy= 0.08594\n",
      "Iter 3840, Minibatch Loss= 3.048031, Training Accuracy= 0.06250\n",
      "Iter 5120, Minibatch Loss= 2.658636, Training Accuracy= 0.11719\n",
      "Iter 6400, Minibatch Loss= 2.793332, Training Accuracy= 0.10938\n",
      "Iter 7680, Minibatch Loss= 2.980369, Training Accuracy= 0.07031\n",
      "Iter 8960, Minibatch Loss= 2.845758, Training Accuracy= 0.08594\n",
      "Optimization Finished!\n",
      "Testing Accuracy: 0.0234375\n"
     ]
    }
   ],
   "source": [
    "# todo Initializing the variables\n",
    "init = tf.global_variables_initializer()\n",
    "\n",
    "# Launch the graph\n",
    "with tf.Session() as sess:\n",
    "    sess.run(init)\n",
    "    step = 1\n",
    "    # Keep training until reach max iterations\n",
    "    while step * batch_size < training_iters:\n",
    "        batch_x, batch_y = mnist.train.next_batch(batch_size)\n",
    "        # Reshape data to get 28 seq of 28 elements\n",
    "        batch_x = batch_x.reshape((batch_size, n_steps, n_input))\n",
    "        # Run optimization op (backprop)\n",
    "        sess.run(optimizer, feed_dict={x: batch_x, y: batch_y})\n",
    "        if step % display_step == 0:\n",
    "            # Calculate batch accuracy\n",
    "            acc = sess.run(accuracy, feed_dict={x: batch_x, y: batch_y})\n",
    "            # Calculate batch loss\n",
    "            loss = sess.run(cost, feed_dict={x: batch_x, y: batch_y})\n",
    "            print(\"Iter \" + str(step*batch_size) + \", Minibatch Loss= \" + \\\n",
    "                  \"{:.6f}\".format(loss) + \", Training Accuracy= \" + \\\n",
    "                  \"{:.5f}\".format(acc))\n",
    "        step += 1\n",
    "    print(\"Optimization Finished!\")\n",
    "\n",
    "    # Calculate accuracy for 128 mnist test images\n",
    "    test_len = 128\n",
    "    test_data = mnist.test.images[:test_len].reshape((-1, n_steps, n_input))\n",
    "    test_label = mnist.test.labels[:test_len]\n",
    "    print(\"Testing Accuracy:\", \\\n",
    "        sess.run(accuracy, feed_dict={x: test_data, y: test_label}))"
   ]
  },
  {
   "cell_type": "code",
   "execution_count": null,
   "metadata": {
    "collapsed": true
   },
   "outputs": [],
   "source": []
  }
 ],
 "metadata": {
  "kernelspec": {
   "display_name": "Python 3",
   "language": "python",
   "name": "python3"
  },
  "language_info": {
   "codemirror_mode": {
    "name": "ipython",
    "version": 3
   },
   "file_extension": ".py",
   "mimetype": "text/x-python",
   "name": "python",
   "nbconvert_exporter": "python",
   "pygments_lexer": "ipython3",
   "version": "3.6.5"
  }
 },
 "nbformat": 4,
 "nbformat_minor": 2
}
