{
 "cells": [
  {
   "cell_type": "code",
   "execution_count": 1,
   "metadata": {},
   "outputs": [
    {
     "name": "stderr",
     "output_type": "stream",
     "text": [
      "E:\\Anaconda3\\tensorflow\\lib\\site-packages\\h5py\\__init__.py:36: FutureWarning: Conversion of the second argument of issubdtype from `float` to `np.floating` is deprecated. In future, it will be treated as `np.float64 == np.dtype(float).type`.\n",
      "  from ._conv import register_converters as _register_converters\n"
     ]
    },
    {
     "name": "stdout",
     "output_type": "stream",
     "text": [
      "[[[-0.39461717  0.76024157 -0.28845134 -0.39942664 -0.20110248\n",
      "   -0.00348325 -0.269829   -0.7771724   0.3877009  -0.37940276\n",
      "   -0.550957   -0.4462575  -0.54408115  0.23778099 -0.49192464]\n",
      "  [-0.99765736  0.987893   -0.99762356 -0.92487484 -0.44913608\n",
      "   -0.99843764 -0.5605631  -0.7726531   0.051578   -0.99946666\n",
      "   -0.8590317   0.97071254  0.7651971   0.98679674 -0.98316854]]\n",
      "\n",
      " [[-0.94413203  0.97879    -0.89593476 -0.8308107  -0.26431012\n",
      "   -0.8147903  -0.33271545 -0.96533835  0.53752196 -0.9496629\n",
      "   -0.94214123  0.09178682 -0.38097578  0.8077609  -0.93027306]\n",
      "  [ 0.25562423 -0.63947785 -0.33648878  0.38440835 -0.16797483\n",
      "   -0.02558638 -0.67083246  0.7851971  -0.747955    0.21364552\n",
      "    0.97538745  0.06676446 -0.4886581  -0.03882198  0.8280859 ]]\n",
      "\n",
      " [[-0.99620247  0.9983144  -0.9891485  -0.9609775  -0.3253259\n",
      "   -0.97924125 -0.39277568 -0.9950508   0.65967417 -0.9970411\n",
      "   -0.99388784  0.58109164 -0.19012481  0.9639345  -0.99236596]\n",
      "  [-0.99169093  0.990713   -0.99588066 -0.91013694 -0.25763434\n",
      "   -0.9737017  -0.81486434 -0.9723143  -0.3885336  -0.9940517\n",
      "   -0.66837066  0.5802717  -0.6530281   0.9540832  -0.8828232 ]]\n",
      "\n",
      " [[-0.99417555 -0.96300083 -0.9365145  -0.985145    0.9828118\n",
      "   -0.99582124  0.84737575  0.98978716  0.44794276 -0.9973618\n",
      "    0.7623206   0.99786896  0.98552835  0.9979306  -0.9465746 ]\n",
      "  [-0.4650734  -0.58559984 -0.7170209  -0.3171054   0.7171542\n",
      "   -0.30289754  0.21367519 -0.8566373  -0.8737043   0.01042757\n",
      "   -0.9281685   0.9332382  -0.14994034  0.09364539  0.73917174]]]\n"
     ]
    }
   ],
   "source": [
    "import tensorflow as tf\n",
    "import numpy as np\n",
    "from tensorflow.contrib.rnn import BasicRNNCell\n",
    "\n",
    "n_inputs = 3\n",
    "n_neurons = 15#5\n",
    "n_steps = 2\n",
    "\n",
    "X = tf.placeholder(tf.float32, [None, n_steps, n_inputs])\n",
    "\n",
    "basic_cell = BasicRNNCell(num_units=n_neurons)\n",
    "outputs, states = tf.nn.dynamic_rnn(basic_cell, X, dtype=tf.float32)\n",
    "# dynamic_rnn accepts [None, n_steps, n_inputs] so we don't need to unstack, tack, transpose\n",
    "# it also outputs [None, n_steps, n_neurons]\n",
    "# dynamic_rnn use a while_loop function to run through steps, instead of initializing all steps at once.\n",
    "\n",
    "init = tf.global_variables_initializer()\n",
    "\n",
    "# X0_batch = np.array([[0, 1, 2], [3, 4, 5], [6, 7, 8], [9, 0, 1]])\n",
    "# X1_batch = np.array([[9, 8, 7], [0, 0, 0], [6, 7, 8], [3, 2, 1]])\n",
    "X_batch = np.array([\n",
    "    [[0, 1, 2], [9, 8, 7]],\n",
    "    [[3, 4, 5], [0, 0, 0]],\n",
    "    [[6, 7, 8], [6, 7, 8]],\n",
    "    [[9, 0, 1], [3, 2, 1]]\n",
    "])\n",
    "\n",
    "with tf.Session() as sess:\n",
    "    init.run()\n",
    "    outputs_val = sess.run(outputs, feed_dict={X: X_batch})\n",
    "\n",
    "print(outputs_val)"
   ]
  },
  {
   "cell_type": "code",
   "execution_count": null,
   "metadata": {},
   "outputs": [],
   "source": []
  }
 ],
 "metadata": {
  "kernelspec": {
   "display_name": "Python 3",
   "language": "python",
   "name": "python3"
  },
  "language_info": {
   "codemirror_mode": {
    "name": "ipython",
    "version": 3
   },
   "file_extension": ".py",
   "mimetype": "text/x-python",
   "name": "python",
   "nbconvert_exporter": "python",
   "pygments_lexer": "ipython3",
   "version": "3.6.5"
  }
 },
 "nbformat": 4,
 "nbformat_minor": 2
}
