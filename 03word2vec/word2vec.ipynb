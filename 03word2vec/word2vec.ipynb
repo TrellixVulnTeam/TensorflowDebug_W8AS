{
 "cells": [
  {
   "cell_type": "code",
   "execution_count": 1,
   "metadata": {},
   "outputs": [
    {
     "name": "stderr",
     "output_type": "stream",
     "text": [
      "E:\\Anaconda3\\tensorflow\\lib\\site-packages\\h5py\\__init__.py:36: FutureWarning: Conversion of the second argument of issubdtype from `float` to `np.floating` is deprecated. In future, it will be treated as `np.float64 == np.dtype(float).type`.\n",
      "  from ._conv import register_converters as _register_converters\n"
     ]
    }
   ],
   "source": [
    "import numpy as np\n",
    "import tensorflow as tf\n",
    "from tensorflow.contrib.tensorboard.plugins import projector\n",
    "\n",
    "from process_data import process_data"
   ]
  },
  {
   "cell_type": "code",
   "execution_count": 2,
   "metadata": {},
   "outputs": [
    {
     "name": "stdout",
     "output_type": "stream",
     "text": [
      "[[-0.5130625   0.9315889   0.40724492  0.2455759   0.8564441 ]\n",
      " [ 0.5759721   0.46080518  0.7878475   0.6381359  -0.80485654]\n",
      " [ 0.5920913  -0.67697525  0.9465809   0.02209878  0.41966677]\n",
      " [ 0.6062257  -0.4364462  -0.70048285 -0.661649   -0.7818403 ]]\n"
     ]
    }
   ],
   "source": [
    "embeddings2 = tf.Variable(tf.random_uniform([4, 5], -1.0, 1.0))\n",
    "with tf.Session() as sess:\n",
    "    init_op2 = tf.global_variables_initializer()\n",
    "    sess.run(init_op2)\n",
    "    print(sess.run(embeddings2))"
   ]
  },
  {
   "cell_type": "code",
   "execution_count": 3,
   "metadata": {},
   "outputs": [],
   "source": [
    "VOCAB_SIZE = 50000\n",
    "BATCH_SIZE = 128\n",
    "EMBED_SIZE = 128 # dimension of the word embedding vectors\n",
    "SKIP_WINDOW = 1 # the context window\n",
    "NUM_SAMPLED = 64    # Number of negative examples to sample.\n",
    "LEARNING_RATE = 1.0\n",
    "NUM_TRAIN_STEPS = 10000\n",
    "SKIP_STEP = 2000 # how many steps to skip before reporting the loss\n",
    "\n",
    "def word2vec(batch_gen):\n",
    "    \"\"\" Build the graph for word2vec model and train it \"\"\"\n",
    "    # Step 1: define the placeholders for input and output\n",
    "    # center_words have to be int to work on embedding lookup\n",
    "\n",
    "    with tf.variable_scope(\"data\"):\n",
    "        train_input = tf.placeholder(tf.int32, [BATCH_SIZE])\n",
    "        train_labels = tf.placeholder(tf.int32, [BATCH_SIZE, 1])\n",
    "\n",
    "    # Step 2: define weights. In word2vec, it's actually the weights that we care about\n",
    "    # vocab size x embed size\n",
    "    # initialized to random uniform -1 to 1\n",
    "    #生成词向量矩阵E\n",
    "    with tf.variable_scope(\"inference\"):\n",
    "        embeddings = tf.Variable(tf.random_uniform([VOCAB_SIZE, EMBED_SIZE], -1.0, 1.0))\n",
    "\n",
    "    # Step 3: define the inference\n",
    "    # get the embed of input words using tf.nn.embedding_lookup\n",
    "    # embed = tf.nn.embedding_lookup(embed_matrix, center_words, name='embed')\n",
    "\n",
    "    embed = tf.nn.embedding_lookup(embeddings, train_input)\n",
    "\n",
    "    # Step 4: construct variables for NCE loss\n",
    "    # tf.nn.nce_loss(weights, biases, labels, inputs, num_sampled, num_classes, ...)\n",
    "    # nce_weight (vocab size x embed size), intialized to truncated_normal stddev=1.0 / (EMBED_SIZE ** 0.5)\n",
    "    # bias: vocab size, initialized to 0\n",
    "\n",
    "    with tf.variable_scope(\"loss\"):\n",
    "        global_step = tf.Variable(0,dtype=tf.int32, trainable=False, name='global_step')\n",
    "        # seed 控制随机性，在一个session内追踪随机种子，不同的Session会重新启动随机数生成器。\n",
    "        nce_weight = tf.Variable(tf.truncated_normal([VOCAB_SIZE, EMBED_SIZE], stddev=1.0 / (EMBED_SIZE ** 0.5), seed=12))\n",
    "        nce_bias = tf.Variable(tf.zeros([VOCAB_SIZE]))\n",
    "\n",
    "    # define loss function to be NCE loss function\n",
    "    # tf.nn.nce_loss(weights, biases, labels, inputs, num_sampled, num_classes, ...)\n",
    "    # need to get the mean accross the batch\n",
    "    # num_sampled 采样出多少个负样本\n",
    "    # num_true 实际的正样本个数\n",
    "    # log_uniform_candidate_sampler\n",
    "\n",
    "        loss = tf.reduce_mean(tf.nn.nce_loss(weights=nce_weight,\n",
    "                                      biases=nce_bias,\n",
    "                                      labels=train_labels,\n",
    "                                      inputs=embed,\n",
    "                                      num_sampled=NUM_SAMPLED,\n",
    "                                      num_classes=VOCAB_SIZE))\n",
    "\n",
    "    # Step 5: define optimizer\n",
    "    # 优化器会在每次更新权重后对global_step加1\n",
    "    with tf.variable_scope(\"optimizer\"):\n",
    "        optimizer = tf.train.GradientDescentOptimizer(learning_rate=1.0).minimize(loss,global_step=global_step)\n",
    "\n",
    "    with tf.name_scope(\"summaries\"):\n",
    "        # 1.0 用来显示标量信息\n",
    "        tf.summary.scalar(\"loss\", loss)\n",
    "        # 2.0 直方图变化\n",
    "        tf.summary.histogram(\"embedding\", embeddings)\n",
    "        # merge them all\n",
    "        # 3.0 将所有summary全部保存到磁盘\n",
    "        summary_op = tf.summary.merge_all()\n",
    "            \n",
    "    logdir = './my_graph/word2vec{}/'.format(LEARNING_RATE)\n",
    "    with tf.Session() as sess:\n",
    "        \n",
    "        init_op = tf.global_variables_initializer()\n",
    "        sess.run(init_op)\n",
    "        # Saver\n",
    "        saver = tf.train.Saver()\n",
    "\n",
    "        total_loss = 0.0 # we use this to calculate the average loss in the last SKIP_STEP steps\n",
    "        writer = tf.summary.FileWriter('./my_graph/no_frills/', sess.graph)\n",
    "        for index in range(NUM_TRAIN_STEPS):\n",
    "            centers, targets = next(batch_gen)\n",
    "            # TO DO: create feed_dict, run optimizer, fetch loss_batch\n",
    "            feed_dict = {train_input: centers, train_labels: targets}\n",
    "            _, loss_batch = sess.run([optimizer, loss], feed_dict=feed_dict)\n",
    "            total_loss += loss_batch\n",
    "            if (index + 1) % SKIP_STEP == 0:\n",
    "                summary = sess.run(summary_op, feed_dict=feed_dict)\n",
    "                writer.add_summary(summary, global_step=index)\n",
    "                # 保存训练过程中的global_step=index的步\n",
    "                saver.save(sess, logdir + \"model.ckpt\", global_step=global_step)\n",
    "                print('Average loss at step {}: {:5.1f}'.format(index, total_loss / SKIP_STEP))\n",
    "                total_loss = 0.0\n",
    "        writer.close()"
   ]
  },
  {
   "cell_type": "code",
   "execution_count": 4,
   "metadata": {},
   "outputs": [
    {
     "name": "stdout",
     "output_type": "stream",
     "text": [
      "vocab_size=50000, batch_size=128, skip_window=1\n",
      "DATA_FOLDER:  ./data/  file_name:  text8.zip\n",
      "Dataset ready\n",
      "file_path: ./data/text8.zip\n",
      "words length:17005207\n",
      "words=originated\n",
      "words=as\n",
      "words=a\n",
      "words=term\n",
      "top 4 count\n",
      "('the', 1061396)\n",
      "('of', 593677)\n",
      "('and', 416629)\n",
      "after build_vocab\n",
      "words=originated\n",
      "words=as\n",
      "words=a\n",
      "words=term\n",
      "type of index_words: <class 'list'>\n",
      "after convert_words_to_index\n",
      "words=3081\n",
      "words=12\n",
      "words=6\n",
      "words=195\n",
      "single_gen <generator object generate_sample at 0x000001B748A59A40>\n",
      "Average loss at step 1999: 113.8\n",
      "Average loss at step 3999:  52.9\n",
      "Average loss at step 5999:  33.2\n",
      "Average loss at step 7999:  23.3\n",
      "Average loss at step 9999:  17.7\n"
     ]
    }
   ],
   "source": [
    "batch_gen = process_data(VOCAB_SIZE, BATCH_SIZE, SKIP_WINDOW)\n",
    "# center_batch[index]=5328, target_batch[index]=[55.],\n",
    "word2vec(batch_gen)"
   ]
  },
  {
   "cell_type": "code",
   "execution_count": null,
   "metadata": {},
   "outputs": [],
   "source": []
  }
 ],
 "metadata": {
  "kernelspec": {
   "display_name": "Python 3",
   "language": "python",
   "name": "python3"
  },
  "language_info": {
   "codemirror_mode": {
    "name": "ipython",
    "version": 3
   },
   "file_extension": ".py",
   "mimetype": "text/x-python",
   "name": "python",
   "nbconvert_exporter": "python",
   "pygments_lexer": "ipython3",
   "version": "3.6.5"
  }
 },
 "nbformat": 4,
 "nbformat_minor": 2
}
