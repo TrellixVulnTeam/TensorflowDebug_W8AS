{
 "cells": [
  {
   "cell_type": "code",
   "execution_count": 1,
   "metadata": {},
   "outputs": [],
   "source": [
    "import numpy as np\n",
    "import matplotlib.pyplot as plt"
   ]
  },
  {
   "cell_type": "code",
   "execution_count": 2,
   "metadata": {},
   "outputs": [],
   "source": [
    "def init_two_layer_model(input_size, hidden_size, output_size):\n",
    "    model = {}\n",
    "    model['W1'] = 0.00001 * np.random.randn(input_size, hidden_size)\n",
    "    model['b1'] = np.zeros(hidden_size)\n",
    "    model['W2'] = 0.00001 * np.random.randn(hidden_size, output_size)\n",
    "    model['b2'] = np.zeros(output_size)\n",
    "    return model"
   ]
  },
  {
   "cell_type": "code",
   "execution_count": 3,
   "metadata": {},
   "outputs": [],
   "source": [
    "def two_layer_net(X, model, y=None, reg=0.0, verbose=False):\n",
    "    # unpack variables from the model dictionary\n",
    "    W1,b1,W2,b2 = model['W1'], model['b1'], model['W2'], model['b2']\n",
    "    N, D = X.shape\n",
    "\n",
    "    # compute the forward pass\n",
    "    scores = None\n",
    "    # W1:4*10 b1:10\n",
    "    print(\"x.shape:\", X.shape)\n",
    "    print('w1.shape:', W1.shape)\n",
    "    i1 = X.dot(W1) + b1\n",
    "    # i1 5*10\n",
    "    o1 = np.where(i1> 0, i1, 0) # Otherwise causing problems with the shape\n",
    "    # 5*10 dot 10*3\n",
    "    scores = o1.dot(W2) + b2\n",
    "    print('scores.shape:', scores.shape)\n",
    "    # If the targets are not given then jump out, we're done\n",
    "    if y is None:\n",
    "        print('y is None, scores:')\n",
    "        return scores\n",
    "\n",
    "    # compute the loss\n",
    "    loss = None\n",
    "    f = scores.T - np.max(scores, axis =1) # Regularizing\n",
    "    f = np.exp(f)\n",
    "    p = f / np.sum(f, axis=0)\n",
    "\n",
    "    # loss function\n",
    "    distr = np.arange(N) # random distribution\n",
    "    loss = np.mean(-np.log(p[y, distr]))\n",
    "    loss += (0.5*reg) * np.sum(W1 * W1)\n",
    "    loss += (0.5*reg) * np.sum(W2 * W2)\n",
    "\n",
    "    # compute the gradients\n",
    "    grads = {}\n",
    "\n",
    "    df = p  # (C, N)\n",
    "    df[y, distr] -= 1\n",
    "    # (H, C) = ((C, N) x (N, H)).T\n",
    "    dW2 = df.dot(o1).T / N  # (H, C)\n",
    "    dW2 += reg * W2\n",
    "    grads['W2'] = dW2\n",
    "\n",
    "    # C = (C, N)\n",
    "    db2 = np.mean(df, axis=1)  # C\n",
    "    grads['b2'] = db2\n",
    "\n",
    "    # (N, H) =  (H, C)\n",
    "    dresp1 = W2.dot(df).T / N\n",
    "    ds1 = np.where(i1 > 0, dresp1, 0)  # (N, H)\n",
    "    dW1 = X.T.dot(ds1)  # (D, H)\n",
    "    dW1 += reg * W1\n",
    "    grads['W1'] = dW1\n",
    "\n",
    "    db1 = np.sum(ds1, axis=0)  # H\n",
    "    grads['b1'] = db1\n",
    "    return loss, grads"
   ]
  },
  {
   "cell_type": "code",
   "execution_count": 4,
   "metadata": {},
   "outputs": [],
   "source": [
    "input_size = 4\n",
    "hidden_size = 10\n",
    "num_classes = 3\n",
    "num_inputs = 5"
   ]
  },
  {
   "cell_type": "code",
   "execution_count": 5,
   "metadata": {},
   "outputs": [],
   "source": [
    "#  build the initial model\n",
    "def init_toy_model():\n",
    "    model = {}\n",
    "    model['W1'] = np.linspace(-0.2, 0.6, num=input_size * hidden_size).reshape(input_size, hidden_size)\n",
    "    model['b1'] = np.linspace(-0.3, 0.7, num=hidden_size)\n",
    "    model['W2'] = np.linspace(-0.4, 0.1, num=hidden_size * num_classes).reshape(hidden_size, num_classes)\n",
    "    model['b2'] = np.linspace(-0.5, 0.9, num=num_classes)\n",
    "    return model"
   ]
  },
  {
   "cell_type": "code",
   "execution_count": 6,
   "metadata": {},
   "outputs": [],
   "source": [
    "#  contruct the used input data\n",
    "# 5 * 4\n",
    "def init_toy_data():\n",
    "    x = np.linspace(-0.2, 0.5, num=num_inputs*input_size).reshape(num_inputs, input_size)\n",
    "    y = np.array([0, 1, 2, 2, 1])\n",
    "    print('input x:',x)\n",
    "    return x, y"
   ]
  },
  {
   "cell_type": "code",
   "execution_count": 7,
   "metadata": {},
   "outputs": [
    {
     "name": "stdout",
     "output_type": "stream",
     "text": [
      "input x: [[-0.2        -0.16315789 -0.12631579 -0.08947368]\n",
      " [-0.05263158 -0.01578947  0.02105263  0.05789474]\n",
      " [ 0.09473684  0.13157895  0.16842105  0.20526316]\n",
      " [ 0.24210526  0.27894737  0.31578947  0.35263158]\n",
      " [ 0.38947368  0.42631579  0.46315789  0.5       ]]\n"
     ]
    }
   ],
   "source": [
    "# 4 * 10 * 3\n",
    "model = init_toy_model()\n",
    "x, y = init_toy_data()"
   ]
  },
  {
   "cell_type": "code",
   "execution_count": 8,
   "metadata": {},
   "outputs": [
    {
     "name": "stdout",
     "output_type": "stream",
     "text": [
      "x.shape: (5, 4)\n",
      "w1.shape: (4, 10)\n",
      "scores.shape: (5, 3)\n"
     ]
    },
    {
     "ename": "IndexError",
     "evalue": "shape mismatch: indexing arrays could not be broadcast together with shapes (3,) (5,) ",
     "output_type": "error",
     "traceback": [
      "\u001b[1;31m---------------------------------------------------------------------------\u001b[0m",
      "\u001b[1;31mIndexError\u001b[0m                                Traceback (most recent call last)",
      "\u001b[1;32m<ipython-input-8-39155045f061>\u001b[0m in \u001b[0;36m<module>\u001b[1;34m()\u001b[0m\n\u001b[0;32m      1\u001b[0m \u001b[0my2\u001b[0m \u001b[1;33m=\u001b[0m \u001b[0mnp\u001b[0m\u001b[1;33m.\u001b[0m\u001b[0marray\u001b[0m\u001b[1;33m(\u001b[0m\u001b[1;33m[\u001b[0m\u001b[1;36m1\u001b[0m\u001b[1;33m,\u001b[0m \u001b[1;36m2\u001b[0m\u001b[1;33m,\u001b[0m \u001b[1;36m3\u001b[0m\u001b[1;33m]\u001b[0m\u001b[1;33m)\u001b[0m\u001b[1;33m\u001b[0m\u001b[0m\n\u001b[1;32m----> 2\u001b[1;33m \u001b[0mscores\u001b[0m \u001b[1;33m=\u001b[0m \u001b[0mtwo_layer_net\u001b[0m\u001b[1;33m(\u001b[0m\u001b[0mx\u001b[0m\u001b[1;33m,\u001b[0m \u001b[0mmodel\u001b[0m\u001b[1;33m,\u001b[0m \u001b[0my2\u001b[0m\u001b[1;33m,\u001b[0m\u001b[0mverbose\u001b[0m\u001b[1;33m=\u001b[0m\u001b[1;32mTrue\u001b[0m\u001b[1;33m)\u001b[0m\u001b[1;33m\u001b[0m\u001b[0m\n\u001b[0m\u001b[0;32m      3\u001b[0m \u001b[0mprint\u001b[0m\u001b[1;33m(\u001b[0m\u001b[0mscores\u001b[0m\u001b[1;33m)\u001b[0m\u001b[1;33m\u001b[0m\u001b[0m\n",
      "\u001b[1;32m<ipython-input-3-859e6e02dee1>\u001b[0m in \u001b[0;36mtwo_layer_net\u001b[1;34m(X, model, y, reg, verbose)\u001b[0m\n\u001b[0;32m     28\u001b[0m     \u001b[1;31m# loss function\u001b[0m\u001b[1;33m\u001b[0m\u001b[1;33m\u001b[0m\u001b[0m\n\u001b[0;32m     29\u001b[0m     \u001b[0mdistr\u001b[0m \u001b[1;33m=\u001b[0m \u001b[0mnp\u001b[0m\u001b[1;33m.\u001b[0m\u001b[0marange\u001b[0m\u001b[1;33m(\u001b[0m\u001b[0mN\u001b[0m\u001b[1;33m)\u001b[0m \u001b[1;31m# random distribution\u001b[0m\u001b[1;33m\u001b[0m\u001b[0m\n\u001b[1;32m---> 30\u001b[1;33m     \u001b[0mloss\u001b[0m \u001b[1;33m=\u001b[0m \u001b[0mnp\u001b[0m\u001b[1;33m.\u001b[0m\u001b[0mmean\u001b[0m\u001b[1;33m(\u001b[0m\u001b[1;33m-\u001b[0m\u001b[0mnp\u001b[0m\u001b[1;33m.\u001b[0m\u001b[0mlog\u001b[0m\u001b[1;33m(\u001b[0m\u001b[0mp\u001b[0m\u001b[1;33m[\u001b[0m\u001b[0my\u001b[0m\u001b[1;33m,\u001b[0m \u001b[0mdistr\u001b[0m\u001b[1;33m]\u001b[0m\u001b[1;33m)\u001b[0m\u001b[1;33m)\u001b[0m\u001b[1;33m\u001b[0m\u001b[0m\n\u001b[0m\u001b[0;32m     31\u001b[0m     \u001b[0mloss\u001b[0m \u001b[1;33m+=\u001b[0m \u001b[1;33m(\u001b[0m\u001b[1;36m0.5\u001b[0m\u001b[1;33m*\u001b[0m\u001b[0mreg\u001b[0m\u001b[1;33m)\u001b[0m \u001b[1;33m*\u001b[0m \u001b[0mnp\u001b[0m\u001b[1;33m.\u001b[0m\u001b[0msum\u001b[0m\u001b[1;33m(\u001b[0m\u001b[0mW1\u001b[0m \u001b[1;33m*\u001b[0m \u001b[0mW1\u001b[0m\u001b[1;33m)\u001b[0m\u001b[1;33m\u001b[0m\u001b[0m\n\u001b[0;32m     32\u001b[0m     \u001b[0mloss\u001b[0m \u001b[1;33m+=\u001b[0m \u001b[1;33m(\u001b[0m\u001b[1;36m0.5\u001b[0m\u001b[1;33m*\u001b[0m\u001b[0mreg\u001b[0m\u001b[1;33m)\u001b[0m \u001b[1;33m*\u001b[0m \u001b[0mnp\u001b[0m\u001b[1;33m.\u001b[0m\u001b[0msum\u001b[0m\u001b[1;33m(\u001b[0m\u001b[0mW2\u001b[0m \u001b[1;33m*\u001b[0m \u001b[0mW2\u001b[0m\u001b[1;33m)\u001b[0m\u001b[1;33m\u001b[0m\u001b[0m\n",
      "\u001b[1;31mIndexError\u001b[0m: shape mismatch: indexing arrays could not be broadcast together with shapes (3,) (5,) "
     ]
    }
   ],
   "source": [
    "y2 = np.array([1, 2, 3])\n",
    "scores = two_layer_net(x, model, y2,verbose=True)\n",
    "print(scores)"
   ]
  },
  {
   "cell_type": "code",
   "execution_count": null,
   "metadata": {},
   "outputs": [],
   "source": []
  }
 ],
 "metadata": {
  "kernelspec": {
   "display_name": "Python 3",
   "language": "python",
   "name": "python3"
  },
  "language_info": {
   "codemirror_mode": {
    "name": "ipython",
    "version": 3
   },
   "file_extension": ".py",
   "mimetype": "text/x-python",
   "name": "python",
   "nbconvert_exporter": "python",
   "pygments_lexer": "ipython3",
   "version": "3.6.5"
  }
 },
 "nbformat": 4,
 "nbformat_minor": 2
}
