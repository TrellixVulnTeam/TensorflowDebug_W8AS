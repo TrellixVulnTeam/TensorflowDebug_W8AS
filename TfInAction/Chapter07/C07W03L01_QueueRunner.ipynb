{
 "cells": [
  {
   "cell_type": "code",
   "execution_count": 9,
   "metadata": {},
   "outputs": [],
   "source": [
    "import numpy as np\n",
    "import threading\n",
    "import time\n",
    "import tensorflow as tf"
   ]
  },
  {
   "cell_type": "code",
   "execution_count": null,
   "metadata": {},
   "outputs": [],
   "source": [
    "# QueueRunner 用于启动多个线程操作同一个队列"
   ]
  },
  {
   "cell_type": "code",
   "execution_count": 15,
   "metadata": {},
   "outputs": [],
   "source": [
    "# 1. 先进先出的队列，容量100，类型为实数\n",
    "queue = tf.FIFOQueue(100, 'float')\n",
    "# 2. 定义队列的入队操作\n",
    "enqueue_op = queue.enqueue([tf.random_normal([1])])\n",
    "# 表示需要启动5个线程，每个线程中运行的是enqueue_op操作\n",
    "# tf.train.QueueRunner 第一个参数给出了被操作的队列\n",
    "# [enqueue_op] * 5 表示需要启动5个线程，每个线程中运行的是enqueue_op操作\n",
    "# 3.\n",
    "qr = tf.train.QueueRunner(queue, [enqueue_op] * 5)"
   ]
  },
  {
   "cell_type": "code",
   "execution_count": 16,
   "metadata": {},
   "outputs": [],
   "source": [
    "# 4. 将定义过的QueueRunner加入tensorflow计算图上指定的集合\n",
    "# add_queue_runner函数没有指定集合，则默认加入tf.GraphKeys.Queue_RUNNERS集合\n",
    "tf.train.add_queue_runner(qr)\n",
    "# 2. 定义队列的出队操作\n",
    "out_tensor = queue.dequeue()"
   ]
  },
  {
   "cell_type": "code",
   "execution_count": 21,
   "metadata": {},
   "outputs": [
    {
     "name": "stdout",
     "output_type": "stream",
     "text": [
      "0.032799784\n",
      "-0.58927846\n",
      "-0.10025525\n"
     ]
    }
   ],
   "source": [
    "with tf.Session() as sess:\n",
    "    coord = tf.train.Coordinator()\n",
    "    # 5.启动tf.GraphKeys.Queue_RUNNERS中的QueueRunner\n",
    "    threads = tf.train.start_queue_runners(sess=sess, coord=coord)\n",
    "    for i in range(3):\n",
    "        print(sess.run(out_tensor)[0])\n",
    "    coord.request_stop()\n",
    "    coord.join(threads)"
   ]
  },
  {
   "cell_type": "code",
   "execution_count": null,
   "metadata": {},
   "outputs": [],
   "source": []
  }
 ],
 "metadata": {
  "kernelspec": {
   "display_name": "Python 3",
   "language": "python",
   "name": "python3"
  },
  "language_info": {
   "codemirror_mode": {
    "name": "ipython",
    "version": 3
   },
   "file_extension": ".py",
   "mimetype": "text/x-python",
   "name": "python",
   "nbconvert_exporter": "python",
   "pygments_lexer": "ipython3",
   "version": "3.6.5"
  }
 },
 "nbformat": 4,
 "nbformat_minor": 2
}
