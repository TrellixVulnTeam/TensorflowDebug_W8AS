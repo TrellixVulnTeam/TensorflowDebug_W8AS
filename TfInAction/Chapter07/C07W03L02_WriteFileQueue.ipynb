{
 "cells": [
  {
   "cell_type": "code",
   "execution_count": 3,
   "metadata": {},
   "outputs": [
    {
     "name": "stdout",
     "output_type": "stream",
     "text": [
      "[b'.\\\\data.tfrecords-00000-of-00002' b'.\\\\data.tfrecords-00001-of-00002']\n",
      "[0, 0]\n",
      "[0, 1]\n",
      "[1, 0]\n",
      "[1, 1]\n",
      "[0, 0]\n",
      "[0, 1]\n"
     ]
    }
   ],
   "source": [
    "import tensorflow as tf\n",
    "\n",
    "# 使用tf.match_filename_once函数获取文件列表\n",
    "files = tf.train.match_filenames_once('./data.tfrecords-*')\n",
    "\n",
    "# 通过tf.train.string_input_producer函数创建输入队列，输入队列中的文件列表为tf.train.match_filenames_once函数获取的文件列表\n",
    "# 这里将shuffle参数设置为False来避免随机打乱读文件的顺序。但一般在解决真实问题时，会将shuffle参数设置为True\n",
    "filename_queue = tf.train.string_input_producer(files, shuffle=False)\n",
    "\n",
    "reader = tf.TFRecordReader()\n",
    "_, serialized_example = reader.read(filename_queue)\n",
    "features = tf.parse_single_example(serialized_example,\n",
    "                                   features={\n",
    "                                       'i': tf.FixedLenFeature([], tf.int64),\n",
    "                                       'j': tf.FixedLenFeature([], tf.int64),\n",
    "                                   })\n",
    "with tf.Session() as sess:\n",
    "    #虽然在本段程序中没有声明任何变量，但使用tf.train.match_filenames_once函数时需要初始化一些变量\n",
    "    init = tf.local_variables_initializer()\n",
    "    sess.run(init)\n",
    "    print(sess.run(files))\n",
    "\n",
    "    # 声明tf.train.Coordinator类来协同不同线程，并启动线程\n",
    "    coord = tf.train.Coordinator()\n",
    "    threads = tf.train.start_queue_runners(sess=sess, coord=coord)\n",
    "\n",
    "    # 多次执行获取数据的操作\n",
    "    for i in range(6):\n",
    "        print(sess.run([features['i'], features['j']]))\n",
    "    coord.request_stop()\n",
    "    coord.join(threads)"
   ]
  },
  {
   "cell_type": "code",
   "execution_count": null,
   "metadata": {},
   "outputs": [],
   "source": []
  }
 ],
 "metadata": {
  "kernelspec": {
   "display_name": "Python 3",
   "language": "python",
   "name": "python3"
  },
  "language_info": {
   "codemirror_mode": {
    "name": "ipython",
    "version": 3
   },
   "file_extension": ".py",
   "mimetype": "text/x-python",
   "name": "python",
   "nbconvert_exporter": "python",
   "pygments_lexer": "ipython3",
   "version": "3.6.5"
  }
 },
 "nbformat": 4,
 "nbformat_minor": 2
}
