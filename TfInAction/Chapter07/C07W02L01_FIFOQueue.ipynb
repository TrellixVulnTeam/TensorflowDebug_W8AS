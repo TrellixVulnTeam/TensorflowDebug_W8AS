{
 "cells": [
  {
   "cell_type": "code",
   "execution_count": null,
   "metadata": {},
   "outputs": [
    {
     "name": "stderr",
     "output_type": "stream",
     "text": [
      "C:\\ProgramData\\Anaconda3\\envs\\tensorflow\\lib\\site-packages\\h5py\\__init__.py:36: FutureWarning: Conversion of the second argument of issubdtype from `float` to `np.floating` is deprecated. In future, it will be treated as `np.float64 == np.dtype(float).type`.\n",
      "  from ._conv import register_converters as _register_converters\n"
     ]
    },
    {
     "name": "stdout",
     "output_type": "stream",
     "text": [
      "0\n",
      "10\n",
      "1\n",
      "11\n",
      "2\n"
     ]
    }
   ],
   "source": [
    "import tensorflow as tf\n",
    "q = tf.FIFOQueue(2,'int32')\n",
    "init = q.enqueue_many(([0,10],))\n",
    "x = q.dequeue()\n",
    "y = x+1\n",
    "q_inc = q.enqueue([y])\n",
    "\n",
    "with tf.Session() as sess:\n",
    "    init.run()\n",
    "    for i in range(5):\n",
    "        v,_ = sess.run([x,q_inc])\n",
    "        print(v)"
   ]
  },
  {
   "cell_type": "code",
   "execution_count": null,
   "metadata": {},
   "outputs": [
    {
     "name": "stdout",
     "output_type": "stream",
     "text": [
      "2.0\n",
      "1.0\n",
      "5.0\n",
      "4.0\n",
      "3.0\n",
      "6.0\n",
      "8.0\n",
      "7.0\n"
     ]
    }
   ],
   "source": [
    "q = tf.RandomShuffleQueue(capacity=10, min_after_dequeue=2, dtypes=\"float\")\n",
    "sess = tf.Session()\n",
    "for i in range(0, 10):\n",
    "    sess.run(q.enqueue(i))\n",
    "\n",
    "for i in range(0, 100):\n",
    "    print(sess.run(q.dequeue()))"
   ]
  },
  {
   "cell_type": "code",
   "execution_count": null,
   "metadata": {
    "collapsed": true
   },
   "outputs": [],
   "source": [
    "with tf.Session() as sess:\n",
    "    queue_runners = tf.get_collection(tf.GraphKeys.QUEUE_RUNNERS)\n",
    "    for qr in queue_runners:\n",
    "        print(type(qr.queue))\n",
    "        print(qr.queue.name)\n",
    "        for opt in qr.enqueue_ops:\n",
    "            print(type(opt))\n",
    "            print(opt.name)"
   ]
  },
  {
   "cell_type": "code",
   "execution_count": null,
   "metadata": {
    "collapsed": true
   },
   "outputs": [],
   "source": []
  }
 ],
 "metadata": {
  "kernelspec": {
   "display_name": "Python 3",
   "language": "python",
   "name": "python3"
  },
  "language_info": {
   "codemirror_mode": {
    "name": "ipython",
    "version": 3
   },
   "file_extension": ".py",
   "mimetype": "text/x-python",
   "name": "python",
   "nbconvert_exporter": "python",
   "pygments_lexer": "ipython3",
   "version": "3.6.2"
  }
 },
 "nbformat": 4,
 "nbformat_minor": 2
}
