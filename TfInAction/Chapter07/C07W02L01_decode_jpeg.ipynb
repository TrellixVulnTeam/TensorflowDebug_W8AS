{
 "cells": [
  {
   "cell_type": "code",
   "execution_count": null,
   "metadata": {},
   "outputs": [
    {
     "name": "stderr",
     "output_type": "stream",
     "text": [
      "E:\\Anaconda3\\tensorflow\\lib\\site-packages\\h5py\\__init__.py:36: FutureWarning: Conversion of the second argument of issubdtype from `float` to `np.floating` is deprecated. In future, it will be treated as `np.float64 == np.dtype(float).type`.\n",
      "  from ._conv import register_converters as _register_converters\n"
     ]
    }
   ],
   "source": [
    "import matplotlib.pyplot as plt\n",
    "import tensorflow as tf\n",
    "import numpy as np\n",
    "import os\n",
    "#1. read\n",
    "image_raw_data = tf.gfile.FastGFile(\"../../../ImageNetDogs/n02085620-Chihuahua/n02085620_7.jpg\", 'rb').read()\n",
    "with tf.Session() as sess:\n",
    "    # 2.0 decode_jpeg decode_png\n",
    "    img_data = tf.image.decode_jpeg(image_raw_data)\n",
    "    # print(\"1:\", img_data.eval())\n",
    "    # print(\"2:\", sess.run(img_data))#打印解码后的图像（即为一个三维矩阵[w,h,3]）\n",
    "    plt.imshow(img_data.eval())\n",
    "    plt.show()\n",
    "    img_data = tf.image.convert_image_dtype(img_data, dtype=tf.uint8)\n",
    "    # 3.0 encode_jpeg decode_png\n",
    "    encoded_image = tf.image.encode_jpeg(img_data)\n",
    "    with tf.gfile.GFile(\"..//..//ImageNetDogs//debug//do.jpg\", 'wb') as f:\n",
    "        f.write(encoded_image.eval())"
   ]
  },
  {
   "cell_type": "code",
   "execution_count": 6,
   "metadata": {},
   "outputs": [
    {
     "ename": "FileNotFoundError",
     "evalue": "[Errno 2] No such file or directory: 'E:\\\\OctaveProject\\\\TensorflowDebug\\\\TfInAction\\\\Chapter07.//..//..//..//ImageNetDogs//n02085620-Chihuahua//n02085620_7.jpg'",
     "output_type": "error",
     "traceback": [
      "\u001b[1;31m---------------------------------------------------------------------------\u001b[0m",
      "\u001b[1;31mFileNotFoundError\u001b[0m                         Traceback (most recent call last)",
      "\u001b[1;32m<ipython-input-6-7f778d1ba007>\u001b[0m in \u001b[0;36m<module>\u001b[1;34m()\u001b[0m\n\u001b[0;32m      1\u001b[0m \u001b[1;32mimport\u001b[0m \u001b[0mmatplotlib\u001b[0m\u001b[1;33m.\u001b[0m\u001b[0mimage\u001b[0m \u001b[1;32mas\u001b[0m \u001b[0mmpimg\u001b[0m\u001b[1;33m\u001b[0m\u001b[0m\n\u001b[1;32m----> 2\u001b[1;33m \u001b[0mpic\u001b[0m \u001b[1;33m=\u001b[0m \u001b[0mmpimg\u001b[0m\u001b[1;33m.\u001b[0m\u001b[0mimread\u001b[0m\u001b[1;33m(\u001b[0m\u001b[0mos\u001b[0m\u001b[1;33m.\u001b[0m\u001b[0mgetcwd\u001b[0m\u001b[1;33m(\u001b[0m\u001b[1;33m)\u001b[0m \u001b[1;33m+\u001b[0m \u001b[1;34m'.//..//..//..//ImageNetDogs//n02085620-Chihuahua//n02085620_7.jpg'\u001b[0m\u001b[1;33m)\u001b[0m\u001b[1;33m\u001b[0m\u001b[0m\n\u001b[0m\u001b[0;32m      3\u001b[0m \u001b[0mprint\u001b[0m\u001b[1;33m(\u001b[0m\u001b[0mpic\u001b[0m\u001b[1;33m.\u001b[0m\u001b[0mshape\u001b[0m\u001b[1;33m)\u001b[0m\u001b[1;33m\u001b[0m\u001b[0m\n",
      "\u001b[1;32mE:\\Anaconda3\\tensorflow\\lib\\site-packages\\matplotlib\\image.py\u001b[0m in \u001b[0;36mimread\u001b[1;34m(fname, format)\u001b[0m\n\u001b[0;32m   1354\u001b[0m \u001b[1;33m\u001b[0m\u001b[0m\n\u001b[0;32m   1355\u001b[0m     \u001b[1;32mif\u001b[0m \u001b[0mext\u001b[0m \u001b[1;32mnot\u001b[0m \u001b[1;32min\u001b[0m \u001b[0mhandlers\u001b[0m\u001b[1;33m:\u001b[0m\u001b[1;33m\u001b[0m\u001b[0m\n\u001b[1;32m-> 1356\u001b[1;33m         \u001b[0mim\u001b[0m \u001b[1;33m=\u001b[0m \u001b[0mpilread\u001b[0m\u001b[1;33m(\u001b[0m\u001b[0mfname\u001b[0m\u001b[1;33m)\u001b[0m\u001b[1;33m\u001b[0m\u001b[0m\n\u001b[0m\u001b[0;32m   1357\u001b[0m         \u001b[1;32mif\u001b[0m \u001b[0mim\u001b[0m \u001b[1;32mis\u001b[0m \u001b[1;32mNone\u001b[0m\u001b[1;33m:\u001b[0m\u001b[1;33m\u001b[0m\u001b[0m\n\u001b[0;32m   1358\u001b[0m             raise ValueError('Only know how to handle extensions: %s; '\n",
      "\u001b[1;32mE:\\Anaconda3\\tensorflow\\lib\\site-packages\\matplotlib\\image.py\u001b[0m in \u001b[0;36mpilread\u001b[1;34m(fname)\u001b[0m\n\u001b[0;32m   1332\u001b[0m         \u001b[1;32mexcept\u001b[0m \u001b[0mImportError\u001b[0m\u001b[1;33m:\u001b[0m\u001b[1;33m\u001b[0m\u001b[0m\n\u001b[0;32m   1333\u001b[0m             \u001b[1;32mreturn\u001b[0m \u001b[1;32mNone\u001b[0m\u001b[1;33m\u001b[0m\u001b[0m\n\u001b[1;32m-> 1334\u001b[1;33m         \u001b[1;32mwith\u001b[0m \u001b[0mImage\u001b[0m\u001b[1;33m.\u001b[0m\u001b[0mopen\u001b[0m\u001b[1;33m(\u001b[0m\u001b[0mfname\u001b[0m\u001b[1;33m)\u001b[0m \u001b[1;32mas\u001b[0m \u001b[0mimage\u001b[0m\u001b[1;33m:\u001b[0m\u001b[1;33m\u001b[0m\u001b[0m\n\u001b[0m\u001b[0;32m   1335\u001b[0m             \u001b[1;32mreturn\u001b[0m \u001b[0mpil_to_array\u001b[0m\u001b[1;33m(\u001b[0m\u001b[0mimage\u001b[0m\u001b[1;33m)\u001b[0m\u001b[1;33m\u001b[0m\u001b[0m\n\u001b[0;32m   1336\u001b[0m \u001b[1;33m\u001b[0m\u001b[0m\n",
      "\u001b[1;32mE:\\Anaconda3\\tensorflow\\lib\\site-packages\\PIL\\Image.py\u001b[0m in \u001b[0;36mopen\u001b[1;34m(fp, mode)\u001b[0m\n\u001b[0;32m   2546\u001b[0m \u001b[1;33m\u001b[0m\u001b[0m\n\u001b[0;32m   2547\u001b[0m     \u001b[1;32mif\u001b[0m \u001b[0mfilename\u001b[0m\u001b[1;33m:\u001b[0m\u001b[1;33m\u001b[0m\u001b[0m\n\u001b[1;32m-> 2548\u001b[1;33m         \u001b[0mfp\u001b[0m \u001b[1;33m=\u001b[0m \u001b[0mbuiltins\u001b[0m\u001b[1;33m.\u001b[0m\u001b[0mopen\u001b[0m\u001b[1;33m(\u001b[0m\u001b[0mfilename\u001b[0m\u001b[1;33m,\u001b[0m \u001b[1;34m\"rb\"\u001b[0m\u001b[1;33m)\u001b[0m\u001b[1;33m\u001b[0m\u001b[0m\n\u001b[0m\u001b[0;32m   2549\u001b[0m         \u001b[0mexclusive_fp\u001b[0m \u001b[1;33m=\u001b[0m \u001b[1;32mTrue\u001b[0m\u001b[1;33m\u001b[0m\u001b[0m\n\u001b[0;32m   2550\u001b[0m \u001b[1;33m\u001b[0m\u001b[0m\n",
      "\u001b[1;31mFileNotFoundError\u001b[0m: [Errno 2] No such file or directory: 'E:\\\\OctaveProject\\\\TensorflowDebug\\\\TfInAction\\\\Chapter07.//..//..//..//ImageNetDogs//n02085620-Chihuahua//n02085620_7.jpg'"
     ]
    }
   ],
   "source": [
    "import matplotlib.image as mpimg\n",
    "pic = mpimg.imread(os.getcwd() + './/..//..//..//ImageNetDogs//n02085620-Chihuahua//n02085620_7.jpg')\n",
    "print(pic.shape)"
   ]
  },
  {
   "cell_type": "code",
   "execution_count": null,
   "metadata": {},
   "outputs": [],
   "source": [
    "plt.imshow(pic)\n",
    "plt.show()"
   ]
  },
  {
   "cell_type": "code",
   "execution_count": null,
   "metadata": {},
   "outputs": [],
   "source": [
    "import matplotlib.pyplot as plt \n",
    "import tensorflow as tf \n",
    "\n",
    "#tf.gfileGFile()函数：读取图像  \n",
    "image_jpg = tf.gfile.FastGFile('../../../ImageNetDogs/n02085782-Japanese_spaniel/n02085782_2.jpg','rb').read()  \n",
    "image_png = tf.gfile.FastGFile('../../../ImageNetDogs/n02085782-Japanese_spaniel/n02085782_2.jpg','rb').read()  \n",
    "\n",
    "with tf.Session() as sess:\n",
    "    image_jpg = tf.image.decode_jpeg(image_jpg) #图像解码\n",
    "#     print(\"1:\", sess.run(image_jpg))#打印解码后的图像（即为一个三维矩阵[w,h,3]）\n",
    "#     print(\"2:\", image_jpg.eval())\n",
    "    image_jpg = tf.image.convert_image_dtype(image_jpg,dtype=tf.uint8) #改变图像数据类型  \n",
    "    image_png = tf.image.decode_png(image_png) \n",
    "    # print(sess.run(image_png))\n",
    "    image_png = tf.image.convert_image_dtype(image_png,dtype=tf.float32)\n",
    "#     print(image_png.shape)\n",
    "    plt.figure(1) #图像显示  \n",
    "    plt.imshow(image_jpg.eval())  \n",
    "    plt.figure(2)  \n",
    "    plt.imshow(image_png.eval())\n",
    "    # 4.0 resize_images\n",
    "    cat = tf.image.resize_images(image_png, [125, 125], 3)\n",
    "    print(cat.get_shape())\n",
    "    print(\"Digital type: \", cat.dtype)\n",
    "#     cat = np.asarray(image_png2.eval(), dtype='uint8')\n",
    "    cat = np.asarray(cat.eval(), dtype='uint8')\n",
    "    plt.figure(3)\n",
    "    plt.imshow(cat)"
   ]
  },
  {
   "cell_type": "code",
   "execution_count": null,
   "metadata": {},
   "outputs": [],
   "source": [
    "plt.show()"
   ]
  },
  {
   "cell_type": "code",
   "execution_count": null,
   "metadata": {},
   "outputs": [],
   "source": [
    "#tf.gfileGFile()函数：读取图像  \n",
    "image_jpeg = tf.gfile.FastGFile('../../../ImageNetDogs/n02085782-Japanese_spaniel/n02085782_2.jpg','rb').read()\n",
    "with tf.Session() as sess:\n",
    "    image_jpeg = tf.image.decode_jpeg(image_jpeg) #图像解码\n",
    "    croped = tf.image.resize_image_with_crop_or_pad(image_jpg, 100, 100)\n",
    "    padded = tf.image.resize_image_with_crop_or_pad(image_jpg, 500, 500)\n",
    "    central_cropped = tf.image.central_crop(image_jpg, 0.1)\n",
    "    print(\"jpeg:\",croped.get_shape())\n",
    "    print(\"png:\",padded.get_shape())\n",
    "#     print(\"central_cropped:\",central_cropped.get_shape())\n",
    "    plt.figure(1)\n",
    "    plt.imshow(croped.eval())\n",
    "    plt.figure(2)\n",
    "    plt.imshow(padded.eval())\n",
    "    plt.figure(3)\n",
    "    plt.imshow(central_cropped.eval())\n",
    "    plt.show()"
   ]
  },
  {
   "cell_type": "code",
   "execution_count": null,
   "metadata": {},
   "outputs": [],
   "source": []
  },
  {
   "cell_type": "code",
   "execution_count": null,
   "metadata": {},
   "outputs": [],
   "source": []
  }
 ],
 "metadata": {
  "kernelspec": {
   "display_name": "Python 3",
   "language": "python",
   "name": "python3"
  },
  "language_info": {
   "codemirror_mode": {
    "name": "ipython",
    "version": 3
   },
   "file_extension": ".py",
   "mimetype": "text/x-python",
   "name": "python",
   "nbconvert_exporter": "python",
   "pygments_lexer": "ipython3",
   "version": "3.6.5"
  }
 },
 "nbformat": 4,
 "nbformat_minor": 2
}
