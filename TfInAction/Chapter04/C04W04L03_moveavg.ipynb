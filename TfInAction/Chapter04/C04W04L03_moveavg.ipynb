{
 "cells": [
  {
   "cell_type": "code",
   "execution_count": 1,
   "metadata": {},
   "outputs": [
    {
     "name": "stderr",
     "output_type": "stream",
     "text": [
      "E:\\Anaconda3\\tensorflow\\lib\\site-packages\\h5py\\__init__.py:36: FutureWarning: Conversion of the second argument of issubdtype from `float` to `np.floating` is deprecated. In future, it will be treated as `np.float64 == np.dtype(float).type`.\n",
      "  from ._conv import register_converters as _register_converters\n"
     ]
    }
   ],
   "source": [
    "import tensorflow as tf"
   ]
  },
  {
   "cell_type": "code",
   "execution_count": 2,
   "metadata": {},
   "outputs": [],
   "source": [
    "# 定义一个变量用于计算滑动平均，这个变量的初始值为0.注意这里手动指定变量的类型\n",
    "# 为float32，因为所有需要计算滑动平均的变量必须是实数型\n",
    "v1 = tf.Variable(0, dtype=tf.float32)\n",
    "# 这里的step变量模拟神经网络中迭代的轮数，可以用于动态控制衰减率\n",
    "step = tf.Variable(0, trainable=False)"
   ]
  },
  {
   "cell_type": "code",
   "execution_count": 3,
   "metadata": {},
   "outputs": [],
   "source": [
    "# 定义一个滑动平均类（class）。初始化时给定了衰减率（0.99）和控制衰减的变量step\n",
    "ema = tf.train.ExponentialMovingAverage(0.99, step)"
   ]
  },
  {
   "cell_type": "code",
   "execution_count": 4,
   "metadata": {},
   "outputs": [],
   "source": [
    "# 定义一个更新变量滑动平均的操作。这里需要给定一个列表，每次执行这个操作时\n",
    "# 这个列表中的变量都会被更新\n",
    "maintain_averages_op = ema.apply([v1])"
   ]
  },
  {
   "cell_type": "code",
   "execution_count": 5,
   "metadata": {},
   "outputs": [
    {
     "name": "stdout",
     "output_type": "stream",
     "text": [
      "[0.0, 0.0]\n",
      "[5.0, 4.5]\n",
      "[10.0, 4.555]\n",
      "[10.0, 4.60945]\n"
     ]
    }
   ],
   "source": [
    "with tf.Session() as sess:\n",
    "    # 初始化\n",
    "    init_op = tf.global_variables_initializer()\n",
    "    sess.run(init_op)\n",
    "    # v1=0 avg(v1)=0\n",
    "    print(sess.run([v1, ema.average(v1)]))\n",
    "\n",
    "    # 更新变量v1的取值\n",
    "    # decay = min(0.99, (1+0)/(10+0)=0.1)=0.1\n",
    "    # avg(v1) = 0.1 * 0 + 0.9 * 5 = 4.5\n",
    "    sess.run(tf.assign(v1, 5))\n",
    "    sess.run(maintain_averages_op)\n",
    "    print(sess.run([v1, ema.average(v1)]))\n",
    "\n",
    "    # 更新step和v1的取值\n",
    "    # decay = min(0.99, (1+1000)/(10+1000)=0.1)=0.99\n",
    "    # avg(v1) = 0.99 * 4.5 + 0.01 * 10 = 4.555\n",
    "    sess.run(tf.assign(step, 10000))\n",
    "    sess.run(tf.assign(v1, 10))\n",
    "    sess.run(maintain_averages_op)\n",
    "    # decay = min(0.99, (1+10000)/(10 + 10000)=0.999)\n",
    "    # avg(v1) = 0.99 * 4.555 + 0.01 * 10 = 4.60945\n",
    "    print(sess.run([v1, ema.average(v1)]))\n",
    "\n",
    "    # 更新一次v1的滑动平均值\n",
    "    sess.run(maintain_averages_op)\n",
    "    print(sess.run([v1, ema.average(v1)]))"
   ]
  }
 ],
 "metadata": {
  "kernelspec": {
   "display_name": "Python 3",
   "language": "python",
   "name": "python3"
  },
  "language_info": {
   "codemirror_mode": {
    "name": "ipython",
    "version": 3
   },
   "file_extension": ".py",
   "mimetype": "text/x-python",
   "name": "python",
   "nbconvert_exporter": "python",
   "pygments_lexer": "ipython3",
   "version": "3.6.5"
  }
 },
 "nbformat": 4,
 "nbformat_minor": 2
}
