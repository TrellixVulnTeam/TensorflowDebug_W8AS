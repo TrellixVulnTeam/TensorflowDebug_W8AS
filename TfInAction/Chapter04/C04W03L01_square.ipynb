{
 "cells": [
  {
   "cell_type": "code",
   "execution_count": 1,
   "metadata": {},
   "outputs": [
    {
     "name": "stderr",
     "output_type": "stream",
     "text": [
      "E:\\Anaconda3\\tensorflow\\lib\\site-packages\\h5py\\__init__.py:36: FutureWarning: Conversion of the second argument of issubdtype from `float` to `np.floating` is deprecated. In future, it will be treated as `np.float64 == np.dtype(float).type`.\n",
      "  from ._conv import register_converters as _register_converters\n"
     ]
    }
   ],
   "source": [
    "import tensorflow as tf"
   ]
  },
  {
   "cell_type": "code",
   "execution_count": 6,
   "metadata": {},
   "outputs": [
    {
     "name": "stdout",
     "output_type": "stream",
     "text": [
      "After 1 iteration(s): x1 is 4.500000.\n",
      "After 2 iteration(s): x2 is 4.050000.\n",
      "After 3 iteration(s): x3 is 3.645000.\n",
      "After 4 iteration(s): x4 is 3.280500.\n",
      "After 5 iteration(s): x5 is 2.952450.\n",
      "After 6 iteration(s): x6 is 2.657205.\n",
      "After 7 iteration(s): x7 is 2.391485.\n",
      "After 8 iteration(s): x8 is 2.152336.\n",
      "After 9 iteration(s): x9 is 1.937103.\n",
      "After 10 iteration(s): x10 is 1.743392.\n"
     ]
    }
   ],
   "source": [
    "# 假设我们要最小化函数 y = x^2, 选择初始点x0=5\n",
    "# 学习率为1的时候，x在5 和 -5 之间震荡\n",
    "TRAINING_STEPS = 10\n",
    "LEARNING_RATE = 0.05\n",
    "\n",
    "x = tf.Variable(tf.constant(5, dtype=tf.float32), name='x')\n",
    "y = tf.square(x)\n",
    "\n",
    "train_op = tf.train.GradientDescentOptimizer(LEARNING_RATE).minimize(y)\n",
    "\n",
    "with tf.Session() as sess:\n",
    "    sess.run(tf.global_variables_initializer())\n",
    "    for i in range(TRAINING_STEPS):\n",
    "        sess.run(train_op)\n",
    "        x_value = sess.run(x)\n",
    "        print(\"After %s iteration(s): x%s is %f.\" % (i + 1, i + 1, x_value))"
   ]
  },
  {
   "cell_type": "code",
   "execution_count": null,
   "metadata": {},
   "outputs": [],
   "source": []
  }
 ],
 "metadata": {
  "kernelspec": {
   "display_name": "Python 3",
   "language": "python",
   "name": "python3"
  },
  "language_info": {
   "codemirror_mode": {
    "name": "ipython",
    "version": 3
   },
   "file_extension": ".py",
   "mimetype": "text/x-python",
   "name": "python",
   "nbconvert_exporter": "python",
   "pygments_lexer": "ipython3",
   "version": "3.6.5"
  }
 },
 "nbformat": 4,
 "nbformat_minor": 2
}
