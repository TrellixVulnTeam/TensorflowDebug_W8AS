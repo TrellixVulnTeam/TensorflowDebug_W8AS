{
 "cells": [
  {
   "cell_type": "code",
   "execution_count": 12,
   "metadata": {},
   "outputs": [],
   "source": [
    "import tensorflow as tf\n",
    "import matplotlib.pyplot as plt;  "
   ]
  },
  {
   "cell_type": "code",
   "execution_count": 25,
   "metadata": {},
   "outputs": [],
   "source": [
    "TRAINING_STEPS = 100\n",
    "decay_rate = 0.96\n",
    "decay_steps = 10\n",
    "global_step = tf.Variable(0)\n",
    "# decayed_learning_rate = learning_rate * decay_rate ^ (global_step / decay_steps)\n",
    "# exponential_decay(learning_rate, global_step, decay_steps, decay_rate, staircase=False, name=None)\n",
    "# decayed_learning_rate 为每一轮优化时 使用的学习率\n",
    "# learning_rate 事先设置的初始化学习率\n",
    "# decay_rate 衰减系数\n",
    "# decay_steps 衰减系数\n",
    "# global_step: A scalar `int32` or `int64` `Tensor` or a Python number.\n",
    "#      Global step to use for the decay computation.  Must not be negative.\n",
    "# global_step: Optional `Variable` to increment by one after the\n",
    "#         variables have been updated.\n",
    "# LEARNING_RATE 中的global_step 初始值为0 通过minimize 进行 自增长 中的global_step\n",
    "LEARNING_RATE1 = tf.train.exponential_decay(0.1, global_step, decay_steps, decay_rate, staircase=True)\n",
    "\n",
    "x = tf.Variable(tf.constant(5, dtype=tf.float32), name=\"x\")\n",
    "y = tf.square(x)\n",
    "train_op = tf.train.GradientDescentOptimizer(LEARNING_RATE).minimize(y, global_step=global_step)"
   ]
  },
  {
   "cell_type": "code",
   "execution_count": 26,
   "metadata": {},
   "outputs": [
    {
     "name": "stdout",
     "output_type": "stream",
     "text": [
      "global_step： 1\n",
      "After 1 iteration(s): x1 is 4.000000, learning rate is 0.100000.\n",
      "global_step： 11\n",
      "After 11 iteration(s): x11 is 0.429497, learning rate is 0.100000.\n",
      "global_step： 21\n",
      "After 21 iteration(s): x21 is 0.046117, learning rate is 0.100000.\n",
      "global_step： 31\n",
      "After 31 iteration(s): x31 is 0.004952, learning rate is 0.100000.\n",
      "global_step： 41\n",
      "After 41 iteration(s): x41 is 0.000532, learning rate is 0.100000.\n",
      "global_step： 51\n",
      "After 51 iteration(s): x51 is 0.000057, learning rate is 0.100000.\n",
      "global_step： 61\n",
      "After 61 iteration(s): x61 is 0.000006, learning rate is 0.100000.\n",
      "global_step： 71\n",
      "After 71 iteration(s): x71 is 0.000001, learning rate is 0.100000.\n",
      "global_step： 81\n",
      "After 81 iteration(s): x81 is 0.000000, learning rate is 0.100000.\n",
      "global_step： 91\n",
      "After 91 iteration(s): x91 is 0.000000, learning rate is 0.100000.\n"
     ]
    }
   ],
   "source": [
    "with tf.Session() as sess:\n",
    "    sess.run(tf.global_variables_initializer())\n",
    "    for i in range(TRAINING_STEPS):\n",
    "        sess.run(train_op)\n",
    "        if i % 10 == 0:\n",
    "            LEARNING_RATE_value = sess.run(LEARNING_RATE)\n",
    "            x_value = sess.run(x)\n",
    "            print('global_step：', sess.run(global_step))\n",
    "            print(\"After %s iteration(s): x%s is %f, learning rate is %f.\" % (i + 1, i + 1, x_value, LEARNING_RATE_value))"
   ]
  },
  {
   "cell_type": "code",
   "execution_count": 23,
   "metadata": {},
   "outputs": [],
   "source": [
    "\n",
    "LEARNING_RATE2 = tf.train.exponential_decay(0.1, global_step, decay_steps, decay_rate, staircase=True)\n",
    "LEARNING_RATE3 = tf.train.exponential_decay(0.1, global_step, decay_steps, decay_rate, staircase=False)\n",
    "\n",
    "\n",
    "f_c = []\n",
    "f_d = []\n",
    "with tf.Session() as sess:\n",
    "    for i in range(TRAINING_STEPS):\n",
    "        c = sess.run(LEARNING_RATE2,feed_dict={global_step:i})\n",
    "        f_c.append(c)\n",
    "        d = sess.run(LEARNING_RATE3,feed_dict={global_step:i})\n",
    "        f_d.append(d)"
   ]
  },
  {
   "cell_type": "code",
   "execution_count": 24,
   "metadata": {},
   "outputs": [
    {
     "data": {
      "image/png": "[encoded data removed]",
      "text/plain": [
       "<Figure size 432x288 with 1 Axes>"
      ]
     },
     "metadata": {},
     "output_type": "display_data"
    }
   ],
   "source": [
    "plt.figure(1)\n",
    "plt.plot(range(TRAINING_STEPS),f_c, 'r-')  \n",
    "plt.plot(range(TRAINING_STEPS),f_d, 'b-')\n",
    "plt.show()  "
   ]
  },
  {
   "cell_type": "code",
   "execution_count": 45,
   "metadata": {},
   "outputs": [
    {
     "name": "stdout",
     "output_type": "stream",
     "text": [
      "7.5\n"
     ]
    }
   ],
   "source": [
    "import tensorflow as tf\n",
    "\n",
    "w = tf.constant([[1.0 , -2.0 ],[-3.0 , 4.0]])\n",
    "loss = tf.contrib.layers.l2_regularizer(0.5)(w)\n",
    "with tf.Session() as sess:\n",
    "    print(sess.run(loss))"
   ]
  },
  {
   "cell_type": "code",
   "execution_count": null,
   "metadata": {},
   "outputs": [],
   "source": []
  }
 ],
 "metadata": {
  "kernelspec": {
   "display_name": "Python 3",
   "language": "python",
   "name": "python3"
  },
  "language_info": {
   "codemirror_mode": {
    "name": "ipython",
    "version": 3
   },
   "file_extension": ".py",
   "mimetype": "text/x-python",
   "name": "python",
   "nbconvert_exporter": "python",
   "pygments_lexer": "ipython3",
   "version": "3.6.5"
  }
 },
 "nbformat": 4,
 "nbformat_minor": 2
}
